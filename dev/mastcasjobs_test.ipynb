{
 "cells": [
  {
   "cell_type": "code",
   "execution_count": 5,
   "id": "legitimate-health",
   "metadata": {},
   "outputs": [],
   "source": [
    "import casjobs\n",
    "import mastcasjobs"
   ]
  },
  {
   "cell_type": "code",
   "execution_count": 32,
   "id": "phantom-respect",
   "metadata": {},
   "outputs": [
    {
     "name": "stdout",
     "output_type": "stream",
     "text": [
      "(5, 'finished')\n"
     ]
    }
   ],
   "source": [
    "query = \"\"\"\n",
    "        select \n",
    "        o.raMean, o.decMean,o.iMeanPSFMag,o.zMeanPSFMag,o.iMeanKronMag,soa.iKronRad\n",
    "        into mydb.[tester_footprint]\n",
    "        from fGetNearbyObjEq(190.08143366297801,8.604570917416329,100) x\n",
    "        JOIN MeanObjectView o on o.ObjID=x.ObjId\n",
    "        LEFT JOIN StackObjectAttributes AS soa ON soa.objID = x.objID\n",
    "        WHERE o.nDetections>5\n",
    "        AND soa.primaryDetection>0\n",
    "        \"\"\"\n",
    "\n",
    "jobs = mastcasjobs.MastCasJobs(context='PanSTARRS_DR2')\n",
    "job_id = jobs.submit(query)\n",
    "status = jobs.monitor(job_id)\n",
    "print(status)"
   ]
  },
  {
   "cell_type": "code",
   "execution_count": 33,
   "id": "aboriginal-solution",
   "metadata": {},
   "outputs": [
    {
     "name": "stdout",
     "output_type": "stream",
     "text": [
      "Making output request for CSV-format data\n"
     ]
    },
    {
     "data": {
      "text/html": [
       "<i>Table length=122747</i>\n",
       "<table id=\"table140690119504592\" class=\"table-striped table-bordered table-condensed\">\n",
       "<thead><tr><th>raMean</th><th>decMean</th><th>iMeanPSFMag</th><th>zMeanPSFMag</th><th>iMeanKronMag</th><th>iKronRad</th></tr></thead>\n",
       "<thead><tr><th>float64</th><th>float64</th><th>float64</th><th>float64</th><th>float64</th><th>float64</th></tr></thead>\n",
       "<tr><td>190.05128324</td><td>6.93880319</td><td>21.361499786377</td><td>21.1480007171631</td><td>21.2168006896973</td><td>2.30843997001648</td></tr>\n",
       "<tr><td>190.0523569</td><td>6.94027371</td><td>21.2507991790771</td><td>20.8966999053955</td><td>21.3239994049072</td><td>2.19130992889404</td></tr>\n",
       "<tr><td>190.08776161</td><td>6.93986122</td><td>20.8083992004395</td><td>20.5445995330811</td><td>20.5401992797852</td><td>2.92866992950439</td></tr>\n",
       "<tr><td>190.09057969</td><td>6.93991714</td><td>19.5956001281738</td><td>19.5233001708984</td><td>18.3535003662109</td><td>5.31024980545044</td></tr>\n",
       "<tr><td>190.10009012</td><td>6.93839545</td><td>18.4531002044678</td><td>18.2516994476318</td><td>17.8661003112793</td><td>4.86258983612061</td></tr>\n",
       "<tr><td>190.10529212</td><td>6.94114869</td><td>21.1949005126953</td><td>21.1124000549316</td><td>21.0482997894287</td><td>2.44005990028381</td></tr>\n",
       "<tr><td>190.11260543</td><td>6.93828802</td><td>21.4435997009277</td><td>21.3292999267578</td><td>21.4897994995117</td><td>2.02944993972778</td></tr>\n",
       "<tr><td>190.13772825</td><td>6.9404929</td><td>20.7101001739502</td><td>20.4899005889893</td><td>20.695499420166</td><td>2.38082003593445</td></tr>\n",
       "<tr><td>190.14493814</td><td>6.94102785</td><td>21.3006992340088</td><td>20.9547996520996</td><td>20.8894004821777</td><td>2.629390001297</td></tr>\n",
       "<tr><td>189.90462698</td><td>6.94869917</td><td>21.3267002105713</td><td>-999.0</td><td>21.0251007080078</td><td>3.13503003120422</td></tr>\n",
       "<tr><td>...</td><td>...</td><td>...</td><td>...</td><td>...</td><td>...</td></tr>\n",
       "<tr><td>190.10037946</td><td>10.26639507</td><td>20.4344005584717</td><td>20.6259994506836</td><td>20.136100769043</td><td>-999.0</td></tr>\n",
       "<tr><td>190.10266565</td><td>10.26783713</td><td>21.2289009094238</td><td>21.011999130249</td><td>20.6881999969482</td><td>3.00705003738403</td></tr>\n",
       "<tr><td>190.10831058</td><td>10.26652455</td><td>19.2891006469727</td><td>19.0410995483398</td><td>18.8127994537354</td><td>4.4068398475647</td></tr>\n",
       "<tr><td>190.1246079</td><td>10.26845213</td><td>21.267599105835</td><td>20.915599822998</td><td>21.1912002563477</td><td>2.55615997314453</td></tr>\n",
       "<tr><td>190.13550073</td><td>10.2676781</td><td>20.9547996520996</td><td>20.4454002380371</td><td>21.048999786377</td><td>2.09710001945496</td></tr>\n",
       "<tr><td>190.13893676</td><td>10.26855984</td><td>21.4682006835938</td><td>21.1679992675781</td><td>21.4538993835449</td><td>2.4243700504303</td></tr>\n",
       "<tr><td>190.14779528</td><td>10.2668701</td><td>14.4646997451782</td><td>14.4385004043579</td><td>14.4968996047974</td><td>3.10728001594543</td></tr>\n",
       "<tr><td>190.1483199</td><td>10.2676621</td><td>18.1173992156982</td><td>18.0216007232666</td><td>18.2516994476318</td><td>-999.0</td></tr>\n",
       "<tr><td>190.15512997</td><td>10.26717742</td><td>21.1961002349854</td><td>20.9766006469727</td><td>20.951000213623</td><td>2.86636996269226</td></tr>\n",
       "<tr><td>190.19136271</td><td>10.26675182</td><td>19.323299407959</td><td>18.8803005218506</td><td>19.4489002227783</td><td>2.70015001296997</td></tr>\n",
       "</table>"
      ],
      "text/plain": [
       "<Table length=122747>\n",
       "   raMean      decMean     iMeanPSFMag    ...   iMeanKronMag       iKronRad    \n",
       "  float64      float64       float64      ...     float64          float64     \n",
       "------------ ----------- ---------------- ... ---------------- ----------------\n",
       "190.05128324  6.93880319  21.361499786377 ... 21.2168006896973 2.30843997001648\n",
       " 190.0523569  6.94027371 21.2507991790771 ... 21.3239994049072 2.19130992889404\n",
       "190.08776161  6.93986122 20.8083992004395 ... 20.5401992797852 2.92866992950439\n",
       "190.09057969  6.93991714 19.5956001281738 ... 18.3535003662109 5.31024980545044\n",
       "190.10009012  6.93839545 18.4531002044678 ... 17.8661003112793 4.86258983612061\n",
       "190.10529212  6.94114869 21.1949005126953 ... 21.0482997894287 2.44005990028381\n",
       "190.11260543  6.93828802 21.4435997009277 ... 21.4897994995117 2.02944993972778\n",
       "190.13772825   6.9404929 20.7101001739502 ...  20.695499420166 2.38082003593445\n",
       "190.14493814  6.94102785 21.3006992340088 ... 20.8894004821777   2.629390001297\n",
       "189.90462698  6.94869917 21.3267002105713 ... 21.0251007080078 3.13503003120422\n",
       "         ...         ...              ... ...              ...              ...\n",
       "190.10037946 10.26639507 20.4344005584717 ...  20.136100769043           -999.0\n",
       "190.10266565 10.26783713 21.2289009094238 ... 20.6881999969482 3.00705003738403\n",
       "190.10831058 10.26652455 19.2891006469727 ... 18.8127994537354  4.4068398475647\n",
       " 190.1246079 10.26845213  21.267599105835 ... 21.1912002563477 2.55615997314453\n",
       "190.13550073  10.2676781 20.9547996520996 ...  21.048999786377 2.09710001945496\n",
       "190.13893676 10.26855984 21.4682006835938 ... 21.4538993835449  2.4243700504303\n",
       "190.14779528  10.2668701 14.4646997451782 ... 14.4968996047974 3.10728001594543\n",
       " 190.1483199  10.2676621 18.1173992156982 ... 18.2516994476318           -999.0\n",
       "190.15512997 10.26717742 21.1961002349854 ...  20.951000213623 2.86636996269226\n",
       "190.19136271 10.26675182  19.323299407959 ... 19.4489002227783 2.70015001296997"
      ]
     },
     "execution_count": 33,
     "metadata": {},
     "output_type": "execute_result"
    }
   ],
   "source": [
    "jobs.get_table('tester_footprint',format='CSV')"
   ]
  },
  {
   "cell_type": "code",
   "execution_count": 31,
   "id": "quantitative-prediction",
   "metadata": {},
   "outputs": [],
   "source": [
    "jobs.drop_table_if_exists('tester_footprint')"
   ]
  },
  {
   "cell_type": "code",
   "execution_count": 1,
   "id": "systematic-anderson",
   "metadata": {},
   "outputs": [],
   "source": [
    "from casjob_query import CASjobs_sources\n",
    "from astropy.io import fits\n",
    "from astropy.wcs import WCS"
   ]
  },
  {
   "cell_type": "code",
   "execution_count": 2,
   "id": "exposed-manchester",
   "metadata": {},
   "outputs": [],
   "source": [
    "file = '/user/rridden/k2mosaic-c16-ch64-cad158222.fits'\n",
    "wcs = WCS(fits.open(file)[2].header)"
   ]
  },
  {
   "cell_type": "code",
   "execution_count": 3,
   "id": "atomic-vaccine",
   "metadata": {},
   "outputs": [],
   "source": [
    "test = CASjobs_sources(wcs,maglim=15,context='gaia')"
   ]
  },
  {
   "cell_type": "code",
   "execution_count": 4,
   "id": "professional-transaction",
   "metadata": {},
   "outputs": [
    {
     "name": "stdout",
     "output_type": "stream",
     "text": [
      "\n",
      " name not defined assigning default name.\n",
      "GAIA_DR2\n",
      "(5, 'finished')\n"
     ]
    }
   ],
   "source": [
    "test.get_table()"
   ]
  },
  {
   "cell_type": "code",
   "execution_count": 5,
   "id": "modified-auditor",
   "metadata": {},
   "outputs": [
    {
     "data": {
      "text/html": [
       "<div>\n",
       "<style scoped>\n",
       "    .dataframe tbody tr th:only-of-type {\n",
       "        vertical-align: middle;\n",
       "    }\n",
       "\n",
       "    .dataframe tbody tr th {\n",
       "        vertical-align: top;\n",
       "    }\n",
       "\n",
       "    .dataframe thead th {\n",
       "        text-align: right;\n",
       "    }\n",
       "</style>\n",
       "<table border=\"1\" class=\"dataframe\">\n",
       "  <thead>\n",
       "    <tr style=\"text-align: right;\">\n",
       "      <th></th>\n",
       "      <th>ra</th>\n",
       "      <th>dec</th>\n",
       "      <th>gaia</th>\n",
       "    </tr>\n",
       "  </thead>\n",
       "  <tbody>\n",
       "    <tr>\n",
       "      <th>0</th>\n",
       "      <td>137.566107</td>\n",
       "      <td>18.405963</td>\n",
       "      <td>12.356858</td>\n",
       "    </tr>\n",
       "    <tr>\n",
       "      <th>1</th>\n",
       "      <td>137.539762</td>\n",
       "      <td>18.498916</td>\n",
       "      <td>14.953719</td>\n",
       "    </tr>\n",
       "    <tr>\n",
       "      <th>2</th>\n",
       "      <td>137.597301</td>\n",
       "      <td>18.522046</td>\n",
       "      <td>11.032606</td>\n",
       "    </tr>\n",
       "    <tr>\n",
       "      <th>3</th>\n",
       "      <td>137.823540</td>\n",
       "      <td>18.029788</td>\n",
       "      <td>14.102205</td>\n",
       "    </tr>\n",
       "    <tr>\n",
       "      <th>4</th>\n",
       "      <td>137.896383</td>\n",
       "      <td>18.104740</td>\n",
       "      <td>13.588293</td>\n",
       "    </tr>\n",
       "    <tr>\n",
       "      <th>...</th>\n",
       "      <td>...</td>\n",
       "      <td>...</td>\n",
       "      <td>...</td>\n",
       "    </tr>\n",
       "    <tr>\n",
       "      <th>651</th>\n",
       "      <td>137.230772</td>\n",
       "      <td>18.556335</td>\n",
       "      <td>13.095534</td>\n",
       "    </tr>\n",
       "    <tr>\n",
       "      <th>652</th>\n",
       "      <td>137.227171</td>\n",
       "      <td>18.571667</td>\n",
       "      <td>13.402422</td>\n",
       "    </tr>\n",
       "    <tr>\n",
       "      <th>653</th>\n",
       "      <td>137.170155</td>\n",
       "      <td>18.551554</td>\n",
       "      <td>14.054524</td>\n",
       "    </tr>\n",
       "    <tr>\n",
       "      <th>654</th>\n",
       "      <td>137.130035</td>\n",
       "      <td>18.561492</td>\n",
       "      <td>14.196590</td>\n",
       "    </tr>\n",
       "    <tr>\n",
       "      <th>655</th>\n",
       "      <td>137.432853</td>\n",
       "      <td>18.553844</td>\n",
       "      <td>14.207316</td>\n",
       "    </tr>\n",
       "  </tbody>\n",
       "</table>\n",
       "<p>656 rows × 3 columns</p>\n",
       "</div>"
      ],
      "text/plain": [
       "             ra        dec       gaia\n",
       "0    137.566107  18.405963  12.356858\n",
       "1    137.539762  18.498916  14.953719\n",
       "2    137.597301  18.522046  11.032606\n",
       "3    137.823540  18.029788  14.102205\n",
       "4    137.896383  18.104740  13.588293\n",
       "..          ...        ...        ...\n",
       "651  137.230772  18.556335  13.095534\n",
       "652  137.227171  18.571667  13.402422\n",
       "653  137.170155  18.551554  14.054524\n",
       "654  137.130035  18.561492  14.196590\n",
       "655  137.432853  18.553844  14.207316\n",
       "\n",
       "[656 rows x 3 columns]"
      ]
     },
     "execution_count": 5,
     "metadata": {},
     "output_type": "execute_result"
    }
   ],
   "source": [
    "test.table"
   ]
  },
  {
   "cell_type": "code",
   "execution_count": null,
   "id": "increased-remove",
   "metadata": {},
   "outputs": [],
   "source": []
  }
 ],
 "metadata": {
  "kernelspec": {
   "display_name": "Python 3",
   "language": "python",
   "name": "python3"
  },
  "language_info": {
   "codemirror_mode": {
    "name": "ipython",
    "version": 3
   },
   "file_extension": ".py",
   "mimetype": "text/x-python",
   "name": "python",
   "nbconvert_exporter": "python",
   "pygments_lexer": "ipython3",
   "version": "3.7.7"
  }
 },
 "nbformat": 4,
 "nbformat_minor": 5
}
